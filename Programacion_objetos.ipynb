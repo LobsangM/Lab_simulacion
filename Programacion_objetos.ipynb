{
 "cells": [
  {
   "cell_type": "markdown",
   "metadata": {},
   "source": [
    "## 5 pilares de la programación orientada a Objetos\n",
    "\n",
    "1. Polimorfismo\n",
    "2. Abstracción\n",
    "3. Encapsulamiento\n",
    "4. Herencia\n",
    "5. Sobrecarga\n",
    "\n"
   ]
  }
 ],
 "metadata": {
  "language_info": {
   "name": "python"
  }
 },
 "nbformat": 4,
 "nbformat_minor": 2
}
